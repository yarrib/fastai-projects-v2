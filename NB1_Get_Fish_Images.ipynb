{
  "nbformat": 4,
  "nbformat_minor": 0,
  "metadata": {
    "colab": {
      "name": "NB1_Get Fish Images.ipynb",
      "provenance": [],
      "collapsed_sections": [],
      "authorship_tag": "ABX9TyPTjv0Oye7X8mhnXOiDu/SN",
      "include_colab_link": true
    },
    "kernelspec": {
      "name": "python3",
      "display_name": "Python 3"
    },
    "language_info": {
      "name": "python"
    }
  },
  "cells": [
    {
      "cell_type": "markdown",
      "metadata": {
        "id": "view-in-github",
        "colab_type": "text"
      },
      "source": [
        "<a href=\"https://colab.research.google.com/github/yarrib/fastai-projects-v2/blob/master/NB1_Get_Fish_Images.ipynb\" target=\"_parent\"><img src=\"https://colab.research.google.com/assets/colab-badge.svg\" alt=\"Open In Colab\"/></a>"
      ]
    },
    {
      "cell_type": "markdown",
      "source": [
        "# Get Images\n",
        "\n",
        "In this notebook we will use the bing search api to acquire images of fish from Microsoft Bing Image Search. Since some images were previously acquired, select species will be excluded from the list which we iterate through. These species include Walleye, Sauger, Saugeye, Northern Pike, Musky, Crappie, Common Carp, Channel Catfish, and Bluegill. The remaining species will be a compiled list of gamefish species in the US and India."
      ],
      "metadata": {
        "id": "dklHhP7T-SLi"
      }
    },
    {
      "cell_type": "code",
      "source": [
        "%%capture\n",
        "!pip install fastai --upgrade\n",
        "!pip install -Uqq fastbook"
      ],
      "metadata": {
        "id": "RU2OS0gKTnE1"
      },
      "execution_count": null,
      "outputs": []
    },
    {
      "cell_type": "markdown",
      "source": [
        "<b>handling a peculiar issue with dependencies between colab default and fastbook/fastai</b>\n",
        "\n",
        "https://forums.fast.ai/t/google-colab-pip-install-fastbook-produces-dependency-error-with-tornado-v6-1/94109"
      ],
      "metadata": {
        "id": "n6kSpDo7qHWY"
      }
    },
    {
      "cell_type": "code",
      "execution_count": null,
      "metadata": {
        "colab": {
          "base_uri": "https://localhost:8080/"
        },
        "id": "QojZ6wg7-PQx",
        "outputId": "47f0fced-08ea-431b-bf0f-f876c2a664e4"
      },
      "outputs": [
        {
          "output_type": "stream",
          "name": "stdout",
          "text": [
            "Mounted at /content/gdrive\n",
            "gdrive\tsample_data\n"
          ]
        }
      ],
      "source": [
        "# imports and setup\n",
        "import fastbook\n",
        "fastbook.setup_book()\n",
        "\n",
        "from fastai.vision.widgets import *\n",
        "from fastai.vision.all import *\n",
        "from fastbook import *\n",
        "import os\n",
        "!ls\n"
      ]
    },
    {
      "cell_type": "code",
      "source": [
        "from google.colab import auth\n",
        "auth.authenticate_user()"
      ],
      "metadata": {
        "id": "VGdLdcQyTYVf"
      },
      "execution_count": null,
      "outputs": []
    },
    {
      "cell_type": "code",
      "source": [
        "key = os.environ.get('AZURE_SEARCH_KEY','XXX')\n",
        "print(key)"
      ],
      "metadata": {
        "colab": {
          "base_uri": "https://localhost:8080/"
        },
        "id": "FqaKKpS0_7OJ",
        "outputId": "e69a4e7e-6ade-4fb1-d505-ef9af943e059"
      },
      "execution_count": null,
      "outputs": [
        {
          "output_type": "stream",
          "name": "stdout",
          "text": [
            "XXX\n"
          ]
        }
      ]
    },
    {
      "cell_type": "code",
      "source": [
        "# point at text files\n",
        "fish_paths = ['/content/gdrive/MyDrive/Colab Notebooks/india_fish.txt'\n",
        "              ,'/content/gdrive/MyDrive/Colab Notebooks/us_fish.txt']\n",
        "# create empty list to store vars for bing search\n",
        "fish_types = []\n",
        "for p in fish_paths:\n",
        "  with open (p) as fname:\n",
        "    tmp = fname.readlines()\n",
        "    for t in tmp:\n",
        "      fish_types.append(t.strip('\\n').lower())\n",
        "\n",
        "len(fish_types), fish_types[:5]"
      ],
      "metadata": {
        "colab": {
          "base_uri": "https://localhost:8080/"
        },
        "id": "wOjE72m4_7Uu",
        "outputId": "f6e194e0-6cf4-4171-829b-e1acbad1675a"
      },
      "execution_count": null,
      "outputs": [
        {
          "output_type": "execute_result",
          "data": {
            "text/plain": [
              "(55, ['rohu', 'catla', 'mrigal carp', 'mahseer', 'hilsa'])"
            ]
          },
          "metadata": {},
          "execution_count": 7
        }
      ]
    },
    {
      "cell_type": "code",
      "source": [
        "# set path to drive\n",
        "path = Path('/content/gdrive/MyDrive/Colab Notebooks/fish')\n",
        "import time\n",
        "if not path.exists():\n",
        "    path.mkdir()\n",
        "for f in fish_types[5:]:\n",
        "    dest = path/f\n",
        "    dest.mkdir(exist_ok=true)\n",
        "    time.sleep(1)\n",
        "    results = search_images_bing(key, f'{f}')\n",
        "    urls = results.attrgot('contentUrl')\n",
        "    download_images(dest, urls=urls)\n",
        "    print(f'Retrieved {len(urls)} images for fish class: {f}')"
      ],
      "metadata": {
        "colab": {
          "base_uri": "https://localhost:8080/"
        },
        "id": "5VLiUzB5_7ZM",
        "outputId": "4d680046-e820-4091-b0ba-9efc92737d2c"
      },
      "execution_count": null,
      "outputs": [
        {
          "output_type": "stream",
          "name": "stdout",
          "text": [
            "Retrieved 150 images for fish class: pulasa fish\n",
            "Retrieved 150 images for fish class: kajuli ailia coila\n",
            "Retrieved 150 images for fish class: tilapia\n",
            "Retrieved 150 images for fish class: rani pink perch\n",
            "Retrieved 150 images for fish class: calbasu\n",
            "Retrieved 150 images for fish class: mystus tengara\n",
            "Retrieved 150 images for fish class: karimeen fish\n",
            "Retrieved 150 images for fish class: magur\n",
            "Retrieved 150 images for fish class: wallago attu\n",
            "Retrieved 150 images for fish class: vaam eel\n",
            "Retrieved 150 images for fish class: pabda fish\n",
            "Retrieved 69 images for fish class: kokila garfish\n",
            "Retrieved 150 images for fish class: snakehead\n",
            "Retrieved 150 images for fish class: goonch catfish\n",
            "Retrieved 150 images for fish class: ganges shark\n",
            "Retrieved 150 images for fish class: ganges stingray\n",
            "Retrieved 150 images for fish class: indian river dolphin\n",
            "Retrieved 150 images for fish class: alligator gar\n",
            "Retrieved 150 images for fish class: american gizzard shad\n",
            "Retrieved 150 images for fish class: bigmouth buffalo\n",
            "Retrieved 150 images for fish class: black buffalo\n",
            "Retrieved 150 images for fish class: blue catfish\n",
            "Retrieved 150 images for fish class: brook trout\n",
            "Retrieved 150 images for fish class: brown bullhead\n",
            "Retrieved 150 images for fish class: brown trout\n",
            "Retrieved 150 images for fish class: coho salmon\n",
            "Retrieved 150 images for fish class: eelpout\n",
            "Retrieved 150 images for fish class: freshwater drum\n",
            "Retrieved 150 images for fish class: king salmon\n",
            "Retrieved 150 images for fish class: largemouth bass\n",
            "Retrieved 150 images for fish class: longear sunfish\n",
            "Retrieved 150 images for fish class: longnose gar\n",
            "Retrieved 150 images for fish class: bowfin\n",
            "Retrieved 150 images for fish class: paddlefish\n",
            "Retrieved 150 images for fish class: pallid sturgeon\n",
            "Retrieved 150 images for fish class: yellow bullhead\n",
            "Retrieved 150 images for fish class: yellow perch\n",
            "Retrieved 150 images for fish class: pink salmon\n",
            "Retrieved 150 images for fish class: pumpkinseed\n",
            "Retrieved 150 images for fish class: redear sunfish\n",
            "Retrieved 150 images for fish class: river redhorse\n",
            "Retrieved 150 images for fish class: rock bass\n",
            "Retrieved 150 images for fish class: shorthead redhorse\n",
            "Retrieved 150 images for fish class: shovelnose sturgeon\n",
            "Retrieved 150 images for fish class: smallmouth bass\n",
            "Retrieved 150 images for fish class: rainbow trout\n",
            "Retrieved 150 images for fish class: white bass\n",
            "Retrieved 150 images for fish class: white sucker\n",
            "Retrieved 150 images for fish class: lake whitefish\n",
            "Retrieved 150 images for fish class: lake trout\n"
          ]
        }
      ]
    },
    {
      "cell_type": "code",
      "source": [
        "# unlink bad images\n",
        "# fns = get_image_files(path)\n",
        "# failed = verify_images(fns)\n",
        "# failed.map(Path.unlink)"
      ],
      "metadata": {
        "id": "wcTtfJ9vQWVx"
      },
      "execution_count": null,
      "outputs": []
    },
    {
      "cell_type": "code",
      "source": [
        ""
      ],
      "metadata": {
        "id": "MsVSM2c1V0v-"
      },
      "execution_count": null,
      "outputs": []
    },
    {
      "cell_type": "code",
      "source": [
        "import os\n",
        "print(len(next(os.walk(path))[1]))"
      ],
      "metadata": {
        "colab": {
          "base_uri": "https://localhost:8080/"
        },
        "id": "JTYUwhViV0yx",
        "outputId": "04d0bf89-07ff-4cb4-a899-c5ce920dd5ee"
      },
      "execution_count": null,
      "outputs": [
        {
          "output_type": "stream",
          "name": "stdout",
          "text": [
            "64\n"
          ]
        }
      ]
    },
    {
      "cell_type": "code",
      "source": [
        "num_images = 0\n",
        "subdirs = next(os.walk(path))[1]\n",
        "for d in subdirs:\n",
        "  ll =len(next(os.walk(Path(path,d)))[2])\n",
        "  num_images += ll\n",
        "print(f'total images: {num_images:,.0f}')"
      ],
      "metadata": {
        "colab": {
          "base_uri": "https://localhost:8080/"
        },
        "id": "XPynORSTV3JK",
        "outputId": "cc66d04a-07e5-4834-eaef-5efa051dcbfd"
      },
      "execution_count": null,
      "outputs": [
        {
          "output_type": "stream",
          "name": "stdout",
          "text": [
            "total images: 9,118\n"
          ]
        }
      ]
    },
    {
      "cell_type": "code",
      "source": [
        ""
      ],
      "metadata": {
        "id": "1rogt3-mbKUU"
      },
      "execution_count": null,
      "outputs": []
    }
  ]
}